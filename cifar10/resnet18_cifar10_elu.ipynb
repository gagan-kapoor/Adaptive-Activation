{
  "nbformat": 4,
  "nbformat_minor": 0,
  "metadata": {
    "colab": {
      "provenance": [],
      "gpuType": "T4"
    },
    "kernelspec": {
      "name": "python3",
      "display_name": "Python 3"
    },
    "language_info": {
      "name": "python"
    },
    "accelerator": "GPU"
  },
  "cells": [
    {
      "cell_type": "code",
      "execution_count": null,
      "metadata": {
        "id": "rPYetKwrGuUM"
      },
      "outputs": [],
      "source": [
        "import numpy as np\n",
        "from tensorflow import keras\n",
        "from keras.layers import (\n",
        "    Input,\n",
        "    Add,\n",
        "    Dense,\n",
        "    Activation,\n",
        "    ZeroPadding2D,\n",
        "    BatchNormalization,\n",
        "    Flatten,\n",
        "    Conv2D,\n",
        "    AveragePooling2D,\n",
        "    MaxPooling2D,\n",
        ")\n",
        "from keras.models import Model\n",
        "import tensorflow as tf\n",
        "from tensorflow.python.keras import layers\n",
        "from sklearn.metrics import precision_recall_fscore_support\n",
        "import json\n",
        "from google.colab import drive\n",
        "drive.mount('/content/drive')"
      ]
    },
    {
      "cell_type": "code",
      "source": [
        "(X_train, y_train), (X_test, y_test) = keras.datasets.cifar10.load_data()\n",
        "\n",
        "X_train = X_train / 255.0\n",
        "X_test = X_test / 255.0\n",
        "\n",
        "y_train = y_train.ravel()\n",
        "y_test = y_test.ravel()"
      ],
      "metadata": {
        "id": "a5B2MzYUX2Xc",
        "colab": {
          "base_uri": "https://localhost:8080/"
        },
        "outputId": "e03a75e3-69ae-419c-e79b-5cecec1b389c"
      },
      "execution_count": null,
      "outputs": [
        {
          "output_type": "stream",
          "name": "stdout",
          "text": [
            "Downloading data from https://www.cs.toronto.edu/~kriz/cifar-10-python.tar.gz\n",
            "170498071/170498071 [==============================] - 2s 0us/step\n"
          ]
        }
      ]
    },
    {
      "cell_type": "code",
      "source": [
        "class ResNet18:\n",
        "  def __init__(self, num_classes = 10, input_shape = (None, None, 3), **kwargs):\n",
        "    self.num_classes = num_classes\n",
        "    self.input_shape = input_shape\n",
        "\n",
        "  def identity_block18(self, x, filter):\n",
        "\n",
        "    x_skip = x\n",
        "\n",
        "    x = keras.layers.Conv2D(filter, (3,3), padding = 'same')(x)\n",
        "    x = keras.layers.BatchNormalization(axis=3)(x)\n",
        "    x = layers.Lambda(lambda x: tf.keras.activations.elu(x))(x)\n",
        "\n",
        "    x = keras.layers.Conv2D(filter, (3,3), padding = 'same')(x)\n",
        "    x = keras.layers.BatchNormalization(axis=3)(x)\n",
        "\n",
        "    x = keras.layers.Add()([x, x_skip])\n",
        "    x = layers.Lambda(lambda x: tf.keras.activations.elu(x))(x)\n",
        "    return x\n",
        "\n",
        "  def convolutional_block18(self, x, filter):\n",
        "\n",
        "    x_skip = x\n",
        "\n",
        "    x = keras.layers.Conv2D(filter, (3,3), padding = 'same', strides = (2,2))(x)\n",
        "    x = keras.layers.BatchNormalization(axis=3)(x)\n",
        "    x = layers.Lambda(lambda x: tf.keras.activations.elu(x))(x)\n",
        "\n",
        "    x = keras.layers.Conv2D(filter, (3,3), padding = 'same')(x)\n",
        "    x = keras.layers.BatchNormalization(axis=3)(x)\n",
        "\n",
        "    x_skip = keras.layers.Conv2D(filter, (1,1), strides = (2,2))(x_skip)\n",
        "\n",
        "    x = keras.layers.Add()([x, x_skip])\n",
        "    x = layers.Lambda(lambda x: tf.keras.activations.elu(x))(x)\n",
        "    return x\n",
        "\n",
        "  def build(self, **kwargs):\n",
        "\n",
        "    x_input = Input(self.input_shape)\n",
        "    x = ZeroPadding2D((3, 3))(x_input)\n",
        "\n",
        "\n",
        "    x = Conv2D(64, kernel_size=7, strides=2, padding='same')(x)\n",
        "    x = BatchNormalization()(x)\n",
        "    x = layers.Lambda(lambda x: tf.keras.activations.elu(x))(x)\n",
        "    x = keras.layers.MaxPool2D(pool_size=3, strides=2, padding='same')(x)\n",
        "\n",
        "\n",
        "    name = \"ResNet18\"\n",
        "    block_layers = [2, 2, 2, 2]\n",
        "    filter_size = 64\n",
        "\n",
        "\n",
        "    for i in range(4):\n",
        "        if i == 0:\n",
        "            for j in range(block_layers[i]):\n",
        "                x = self.identity_block18(x, filter_size)\n",
        "        else:\n",
        "            filter_size = filter_size*2\n",
        "            x = self.convolutional_block18(x, filter_size )\n",
        "            for j in range(block_layers[i] - 1):\n",
        "                x = self.identity_block18(x, filter_size)\n",
        "\n",
        "    x = AveragePooling2D((2,2), padding = 'same')(x)\n",
        "    x = Flatten()(x)\n",
        "    x = Dense(self.num_classes, activation = 'softmax')(x)\n",
        "    model = Model(inputs = x_input, outputs = x, name = name)\n",
        "\n",
        "    return model"
      ],
      "metadata": {
        "id": "uxSfTt-nV6Fe"
      },
      "execution_count": null,
      "outputs": []
    },
    {
      "cell_type": "code",
      "source": [
        "rn = ResNet18(input_shape=(32, 32, 3))\n",
        "model = rn.build()\n",
        "model.summary()"
      ],
      "metadata": {
        "id": "qH4RnmUHX6Pc"
      },
      "execution_count": null,
      "outputs": []
    },
    {
      "cell_type": "code",
      "source": [
        "model.compile(\n",
        "    optimizer=\"Adam\",\n",
        "\n",
        "    loss=\"sparse_categorical_crossentropy\",\n",
        "\n",
        "    metrics=[\"sparse_categorical_accuracy\"],\n",
        ")\n",
        "\n",
        "learning = model.fit(\n",
        "    X_train, y_train, validation_data=(X_test, y_test), epochs=30, verbose=1\n",
        ")\n",
        "\n",
        "loss_train = learning.history[\"loss\"]\n",
        "\n",
        "loss_val = learning.history[\"val_loss\"]\n",
        "\n",
        "acc_train = learning.history[\"sparse_categorical_accuracy\"]\n",
        "\n",
        "acc_val = learning.history[\"val_sparse_categorical_accuracy\"]\n",
        "\n",
        "y_pred = [np.argmax(arr) for arr in model.predict(X_test)]\n",
        "\n",
        "prf_score = precision_recall_fscore_support(y_test, y_pred, average=\"weighted\")\n",
        "\n",
        "score = model.evaluate(X_test, y_test)"
      ],
      "metadata": {
        "id": "7ExKZIO_YP9p",
        "colab": {
          "base_uri": "https://localhost:8080/"
        },
        "outputId": "7686d938-7d87-4224-d4a0-f332fc211601"
      },
      "execution_count": null,
      "outputs": [
        {
          "output_type": "stream",
          "name": "stdout",
          "text": [
            "Epoch 1/30\n",
            "1563/1563 [==============================] - 51s 25ms/step - loss: 1.3743 - sparse_categorical_accuracy: 0.5090 - val_loss: 1.1783 - val_sparse_categorical_accuracy: 0.5755\n",
            "Epoch 2/30\n",
            "1563/1563 [==============================] - 37s 24ms/step - loss: 0.9899 - sparse_categorical_accuracy: 0.6472 - val_loss: 1.1470 - val_sparse_categorical_accuracy: 0.6088\n",
            "Epoch 3/30\n",
            "1563/1563 [==============================] - 37s 24ms/step - loss: 0.8354 - sparse_categorical_accuracy: 0.7038 - val_loss: 1.0315 - val_sparse_categorical_accuracy: 0.6525\n",
            "Epoch 4/30\n",
            "1563/1563 [==============================] - 41s 26ms/step - loss: 0.7251 - sparse_categorical_accuracy: 0.7469 - val_loss: 0.8939 - val_sparse_categorical_accuracy: 0.6939\n",
            "Epoch 5/30\n",
            "1563/1563 [==============================] - 38s 24ms/step - loss: 0.6268 - sparse_categorical_accuracy: 0.7780 - val_loss: 0.8435 - val_sparse_categorical_accuracy: 0.7073\n",
            "Epoch 6/30\n",
            "1563/1563 [==============================] - 38s 24ms/step - loss: 0.5366 - sparse_categorical_accuracy: 0.8121 - val_loss: 0.8190 - val_sparse_categorical_accuracy: 0.7231\n",
            "Epoch 7/30\n",
            "1563/1563 [==============================] - 37s 23ms/step - loss: 0.4479 - sparse_categorical_accuracy: 0.8410 - val_loss: 0.9727 - val_sparse_categorical_accuracy: 0.6901\n",
            "Epoch 8/30\n",
            "1563/1563 [==============================] - 37s 23ms/step - loss: 0.3740 - sparse_categorical_accuracy: 0.8671 - val_loss: 0.8217 - val_sparse_categorical_accuracy: 0.7475\n",
            "Epoch 9/30\n",
            "1563/1563 [==============================] - 37s 23ms/step - loss: 0.3009 - sparse_categorical_accuracy: 0.8928 - val_loss: 0.8723 - val_sparse_categorical_accuracy: 0.7494\n",
            "Epoch 10/30\n",
            "1563/1563 [==============================] - 37s 24ms/step - loss: 0.2478 - sparse_categorical_accuracy: 0.9113 - val_loss: 0.8792 - val_sparse_categorical_accuracy: 0.7635\n",
            "Epoch 11/30\n",
            "1563/1563 [==============================] - 37s 24ms/step - loss: 0.1969 - sparse_categorical_accuracy: 0.9297 - val_loss: 0.9643 - val_sparse_categorical_accuracy: 0.7570\n",
            "Epoch 12/30\n",
            "1563/1563 [==============================] - 38s 24ms/step - loss: 0.1662 - sparse_categorical_accuracy: 0.9395 - val_loss: 1.0229 - val_sparse_categorical_accuracy: 0.7529\n",
            "Epoch 13/30\n",
            "1563/1563 [==============================] - 38s 24ms/step - loss: 0.1415 - sparse_categorical_accuracy: 0.9496 - val_loss: 1.1721 - val_sparse_categorical_accuracy: 0.7391\n",
            "Epoch 14/30\n",
            "1563/1563 [==============================] - 38s 24ms/step - loss: 0.1242 - sparse_categorical_accuracy: 0.9560 - val_loss: 1.1702 - val_sparse_categorical_accuracy: 0.7432\n",
            "Epoch 15/30\n",
            "1563/1563 [==============================] - 37s 24ms/step - loss: 0.1122 - sparse_categorical_accuracy: 0.9609 - val_loss: 1.2250 - val_sparse_categorical_accuracy: 0.7538\n",
            "Epoch 16/30\n",
            "1563/1563 [==============================] - 38s 24ms/step - loss: 0.1042 - sparse_categorical_accuracy: 0.9630 - val_loss: 1.1588 - val_sparse_categorical_accuracy: 0.7597\n",
            "Epoch 17/30\n",
            "1563/1563 [==============================] - 38s 25ms/step - loss: 0.0931 - sparse_categorical_accuracy: 0.9669 - val_loss: 1.3228 - val_sparse_categorical_accuracy: 0.7459\n",
            "Epoch 18/30\n",
            "1563/1563 [==============================] - 38s 24ms/step - loss: 0.0857 - sparse_categorical_accuracy: 0.9707 - val_loss: 1.2231 - val_sparse_categorical_accuracy: 0.7599\n",
            "Epoch 19/30\n",
            "1563/1563 [==============================] - 38s 24ms/step - loss: 0.0808 - sparse_categorical_accuracy: 0.9724 - val_loss: 1.7829 - val_sparse_categorical_accuracy: 0.6929\n",
            "Epoch 20/30\n",
            "1563/1563 [==============================] - 39s 25ms/step - loss: 0.0805 - sparse_categorical_accuracy: 0.9723 - val_loss: 1.7577 - val_sparse_categorical_accuracy: 0.7029\n",
            "Epoch 21/30\n",
            "1563/1563 [==============================] - 38s 24ms/step - loss: 0.0725 - sparse_categorical_accuracy: 0.9742 - val_loss: 1.8687 - val_sparse_categorical_accuracy: 0.7009\n",
            "Epoch 22/30\n",
            "1563/1563 [==============================] - 38s 24ms/step - loss: 0.0663 - sparse_categorical_accuracy: 0.9777 - val_loss: 1.6173 - val_sparse_categorical_accuracy: 0.7230\n",
            "Epoch 23/30\n",
            "1563/1563 [==============================] - 39s 25ms/step - loss: 0.0654 - sparse_categorical_accuracy: 0.9768 - val_loss: 1.4765 - val_sparse_categorical_accuracy: 0.7540\n",
            "Epoch 24/30\n",
            "1563/1563 [==============================] - 38s 24ms/step - loss: 0.0644 - sparse_categorical_accuracy: 0.9782 - val_loss: 1.5329 - val_sparse_categorical_accuracy: 0.7469\n",
            "Epoch 25/30\n",
            "1563/1563 [==============================] - 38s 24ms/step - loss: 0.0587 - sparse_categorical_accuracy: 0.9795 - val_loss: 1.3196 - val_sparse_categorical_accuracy: 0.7610\n",
            "Epoch 26/30\n",
            "1563/1563 [==============================] - 37s 24ms/step - loss: 0.0543 - sparse_categorical_accuracy: 0.9805 - val_loss: 1.6876 - val_sparse_categorical_accuracy: 0.7301\n",
            "Epoch 27/30\n",
            "1563/1563 [==============================] - 38s 24ms/step - loss: 0.0560 - sparse_categorical_accuracy: 0.9813 - val_loss: 1.4478 - val_sparse_categorical_accuracy: 0.7580\n",
            "Epoch 28/30\n",
            "1563/1563 [==============================] - 37s 24ms/step - loss: 0.0532 - sparse_categorical_accuracy: 0.9822 - val_loss: 1.9004 - val_sparse_categorical_accuracy: 0.7127\n",
            "Epoch 29/30\n",
            "1563/1563 [==============================] - 38s 24ms/step - loss: 0.0510 - sparse_categorical_accuracy: 0.9827 - val_loss: 1.5067 - val_sparse_categorical_accuracy: 0.7616\n",
            "Epoch 30/30\n",
            "1563/1563 [==============================] - 38s 24ms/step - loss: 0.0533 - sparse_categorical_accuracy: 0.9824 - val_loss: 1.5031 - val_sparse_categorical_accuracy: 0.7598\n",
            "313/313 [==============================] - 2s 6ms/step\n",
            "313/313 [==============================] - 3s 8ms/step - loss: 1.5031 - sparse_categorical_accuracy: 0.7598\n"
          ]
        }
      ]
    },
    {
      "cell_type": "code",
      "source": [
        "performance = {\n",
        "    'loss_train': loss_train,\n",
        "    'loss_val': loss_val,\n",
        "    'acc_train': acc_train,\n",
        "    'acc_val': acc_val,\n",
        "    'prf_score': prf_score,\n",
        "    'score': score\n",
        "}\n",
        "\n",
        "performance_file_path = '/content/drive/My Drive/Colab Notebooks/elu_performance.json'\n",
        "\n",
        "with open(performance_file_path, 'w') as f:\n",
        "    json.dump(performance, f)\n",
        "\n",
        "print(\"performance saved to:\", performance_file_path)"
      ],
      "metadata": {
        "id": "aua1gG8mNWIb",
        "colab": {
          "base_uri": "https://localhost:8080/"
        },
        "outputId": "5114a393-7b12-42b2-ff41-4dfb7fea1b9f"
      },
      "execution_count": null,
      "outputs": [
        {
          "output_type": "stream",
          "name": "stdout",
          "text": [
            "performance saved to: /content/drive/My Drive/Colab Notebooks/elu_performance.json\n"
          ]
        }
      ]
    }
  ]
}