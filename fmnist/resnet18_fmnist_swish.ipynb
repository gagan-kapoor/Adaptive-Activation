{
  "nbformat": 4,
  "nbformat_minor": 0,
  "metadata": {
    "colab": {
      "provenance": [],
      "gpuType": "T4"
    },
    "kernelspec": {
      "name": "python3",
      "display_name": "Python 3"
    },
    "language_info": {
      "name": "python"
    },
    "accelerator": "GPU"
  },
  "cells": [
    {
      "cell_type": "code",
      "execution_count": null,
      "metadata": {
        "id": "rPYetKwrGuUM",
        "colab": {
          "base_uri": "https://localhost:8080/"
        },
        "outputId": "e2804f73-4ea9-4ed7-8b1a-a9773c7f269f"
      },
      "outputs": [
        {
          "output_type": "stream",
          "name": "stdout",
          "text": [
            "Mounted at /content/drive\n"
          ]
        }
      ],
      "source": [
        "import numpy as np\n",
        "from tensorflow import keras\n",
        "from keras.layers import (\n",
        "    Input,\n",
        "    Add,\n",
        "    Dense,\n",
        "    Activation,\n",
        "    ZeroPadding2D,\n",
        "    BatchNormalization,\n",
        "    Flatten,\n",
        "    Conv2D,\n",
        "    AveragePooling2D,\n",
        "    MaxPooling2D,\n",
        ")\n",
        "from keras.models import Model\n",
        "import tensorflow as tf\n",
        "from tensorflow.python.keras import layers\n",
        "from sklearn.metrics import precision_recall_fscore_support\n",
        "import json\n",
        "from google.colab import drive\n",
        "drive.mount('/content/drive')"
      ]
    },
    {
      "cell_type": "code",
      "source": [
        "(X_train, y_train),(X_test, y_test) = keras.datasets.fashion_mnist.load_data()\n",
        "X_train = X_train / 255.0\n",
        "X_test = X_test / 255.0\n",
        "\n",
        "X_train = X_train.reshape(X_train.shape[0],28,28,1)\n",
        "X_test = X_test.reshape(X_test.shape[0],28,28,1)"
      ],
      "metadata": {
        "id": "a5B2MzYUX2Xc"
      },
      "execution_count": null,
      "outputs": []
    },
    {
      "cell_type": "code",
      "source": [
        "class ResNet18:\n",
        "  def __init__(self, num_classes = 10, input_shape = (None, None, 3), **kwargs):\n",
        "    self.num_classes = num_classes\n",
        "    self.input_shape = input_shape\n",
        "\n",
        "  def identity_block18(self, x, filter):\n",
        "\n",
        "    x_skip = x\n",
        "\n",
        "    x = keras.layers.Conv2D(filter, (3,3), padding = 'same')(x)\n",
        "    x = keras.layers.BatchNormalization(axis=3)(x)\n",
        "    x = layers.Lambda( lambda x : x * tf.sigmoid(x))(x)\n",
        "\n",
        "    x = keras.layers.Conv2D(filter, (3,3), padding = 'same')(x)\n",
        "    x = keras.layers.BatchNormalization(axis=3)(x)\n",
        "\n",
        "    x = keras.layers.Add()([x, x_skip])\n",
        "    x = layers.Lambda( lambda x : x * tf.sigmoid(x))(x)\n",
        "    return x\n",
        "\n",
        "  def convolutional_block18(self, x, filter):\n",
        "\n",
        "    x_skip = x\n",
        "\n",
        "    x = keras.layers.Conv2D(filter, (3,3), padding = 'same', strides = (2,2))(x)\n",
        "    x = keras.layers.BatchNormalization(axis=3)(x)\n",
        "    x = layers.Lambda( lambda x : x * tf.sigmoid(x))(x)\n",
        "\n",
        "    x = keras.layers.Conv2D(filter, (3,3), padding = 'same')(x)\n",
        "    x = keras.layers.BatchNormalization(axis=3)(x)\n",
        "\n",
        "    x_skip = keras.layers.Conv2D(filter, (1,1), strides = (2,2))(x_skip)\n",
        "\n",
        "    x = keras.layers.Add()([x, x_skip])\n",
        "    x = layers.Lambda( lambda x : x * tf.sigmoid(x))(x)\n",
        "    return x\n",
        "\n",
        "  def build(self, **kwargs):\n",
        "\n",
        "    x_input = Input(self.input_shape)\n",
        "    x = ZeroPadding2D((3, 3))(x_input)\n",
        "\n",
        "\n",
        "    x = Conv2D(64, kernel_size=7, strides=2, padding='same')(x)\n",
        "    x = BatchNormalization()(x)\n",
        "    x = layers.Lambda( lambda x : x * tf.sigmoid(x))(x)\n",
        "    x = keras.layers.MaxPool2D(pool_size=3, strides=2, padding='same')(x)\n",
        "\n",
        "\n",
        "    name = \"ResNet18\"\n",
        "    block_layers = [2, 2, 2, 2]\n",
        "    filter_size = 64\n",
        "\n",
        "\n",
        "    for i in range(4):\n",
        "        if i == 0:\n",
        "            for j in range(block_layers[i]):\n",
        "                x = self.identity_block18(x, filter_size)\n",
        "        else:\n",
        "            filter_size = filter_size*2\n",
        "            x = self.convolutional_block18(x, filter_size )\n",
        "            for j in range(block_layers[i] - 1):\n",
        "                x = self.identity_block18(x, filter_size)\n",
        "\n",
        "    x = AveragePooling2D((2,2), padding = 'same')(x)\n",
        "    x = Flatten()(x)\n",
        "    x = Dense(self.num_classes, activation = 'softmax')(x)\n",
        "    model = Model(inputs = x_input, outputs = x, name = name)\n",
        "\n",
        "    return model"
      ],
      "metadata": {
        "id": "uxSfTt-nV6Fe"
      },
      "execution_count": null,
      "outputs": []
    },
    {
      "cell_type": "code",
      "source": [
        "rn = ResNet18(input_shape=(28, 28, 1))\n",
        "model = rn.build()\n",
        "model.summary()"
      ],
      "metadata": {
        "id": "qH4RnmUHX6Pc"
      },
      "execution_count": null,
      "outputs": []
    },
    {
      "cell_type": "code",
      "source": [
        "model.compile(\n",
        "    optimizer=\"Adam\",\n",
        "\n",
        "    loss=\"sparse_categorical_crossentropy\",\n",
        "\n",
        "    metrics=[\"sparse_categorical_accuracy\"],\n",
        ")\n",
        "\n",
        "learning = model.fit(\n",
        "    X_train, y_train, validation_data=(X_test, y_test), epochs=30, verbose=1\n",
        ")\n",
        "\n",
        "loss_train = learning.history[\"loss\"]\n",
        "\n",
        "loss_val = learning.history[\"val_loss\"]\n",
        "\n",
        "acc_train = learning.history[\"sparse_categorical_accuracy\"]\n",
        "\n",
        "acc_val = learning.history[\"val_sparse_categorical_accuracy\"]\n",
        "\n",
        "y_pred = [np.argmax(arr) for arr in model.predict(X_test)]\n",
        "\n",
        "prf_score = precision_recall_fscore_support(y_test, y_pred, average=\"weighted\")\n",
        "\n",
        "score = model.evaluate(X_test, y_test)"
      ],
      "metadata": {
        "id": "7ExKZIO_YP9p",
        "colab": {
          "base_uri": "https://localhost:8080/"
        },
        "outputId": "5281fe3b-ed2a-4562-f5b9-e84401607861"
      },
      "execution_count": null,
      "outputs": [
        {
          "output_type": "stream",
          "name": "stdout",
          "text": [
            "Epoch 1/30\n",
            "1875/1875 [==============================] - 71s 24ms/step - loss: 0.4398 - sparse_categorical_accuracy: 0.8397 - val_loss: 0.3318 - val_sparse_categorical_accuracy: 0.8784\n",
            "Epoch 2/30\n",
            "1875/1875 [==============================] - 43s 23ms/step - loss: 0.2971 - sparse_categorical_accuracy: 0.8904 - val_loss: 0.3161 - val_sparse_categorical_accuracy: 0.8817\n",
            "Epoch 3/30\n",
            "1875/1875 [==============================] - 45s 24ms/step - loss: 0.2593 - sparse_categorical_accuracy: 0.9028 - val_loss: 0.2849 - val_sparse_categorical_accuracy: 0.8954\n",
            "Epoch 4/30\n",
            "1875/1875 [==============================] - 42s 22ms/step - loss: 0.2288 - sparse_categorical_accuracy: 0.9144 - val_loss: 0.3069 - val_sparse_categorical_accuracy: 0.8858\n",
            "Epoch 5/30\n",
            "1875/1875 [==============================] - 43s 23ms/step - loss: 0.2045 - sparse_categorical_accuracy: 0.9229 - val_loss: 0.2716 - val_sparse_categorical_accuracy: 0.9040\n",
            "Epoch 6/30\n",
            "1875/1875 [==============================] - 43s 23ms/step - loss: 0.1844 - sparse_categorical_accuracy: 0.9297 - val_loss: 0.2795 - val_sparse_categorical_accuracy: 0.9001\n",
            "Epoch 7/30\n",
            "1875/1875 [==============================] - 42s 22ms/step - loss: 0.1626 - sparse_categorical_accuracy: 0.9383 - val_loss: 0.2596 - val_sparse_categorical_accuracy: 0.9104\n",
            "Epoch 8/30\n",
            "1875/1875 [==============================] - 42s 22ms/step - loss: 0.1456 - sparse_categorical_accuracy: 0.9448 - val_loss: 0.2676 - val_sparse_categorical_accuracy: 0.9130\n",
            "Epoch 9/30\n",
            "1875/1875 [==============================] - 43s 23ms/step - loss: 0.1257 - sparse_categorical_accuracy: 0.9518 - val_loss: 0.2549 - val_sparse_categorical_accuracy: 0.9127\n",
            "Epoch 10/30\n",
            "1875/1875 [==============================] - 42s 22ms/step - loss: 0.1127 - sparse_categorical_accuracy: 0.9570 - val_loss: 0.2723 - val_sparse_categorical_accuracy: 0.9192\n",
            "Epoch 11/30\n",
            "1875/1875 [==============================] - 43s 23ms/step - loss: 0.0954 - sparse_categorical_accuracy: 0.9632 - val_loss: 0.3002 - val_sparse_categorical_accuracy: 0.9126\n",
            "Epoch 12/30\n",
            "1875/1875 [==============================] - 43s 23ms/step - loss: 0.0854 - sparse_categorical_accuracy: 0.9672 - val_loss: 0.3201 - val_sparse_categorical_accuracy: 0.9118\n",
            "Epoch 13/30\n",
            "1875/1875 [==============================] - 43s 23ms/step - loss: 0.0714 - sparse_categorical_accuracy: 0.9730 - val_loss: 0.3334 - val_sparse_categorical_accuracy: 0.9123\n",
            "Epoch 14/30\n",
            "1875/1875 [==============================] - 43s 23ms/step - loss: 0.0651 - sparse_categorical_accuracy: 0.9754 - val_loss: 0.3498 - val_sparse_categorical_accuracy: 0.9162\n",
            "Epoch 15/30\n",
            "1875/1875 [==============================] - 43s 23ms/step - loss: 0.0561 - sparse_categorical_accuracy: 0.9785 - val_loss: 0.3742 - val_sparse_categorical_accuracy: 0.9111\n",
            "Epoch 16/30\n",
            "1875/1875 [==============================] - 42s 22ms/step - loss: 0.0501 - sparse_categorical_accuracy: 0.9813 - val_loss: 0.3674 - val_sparse_categorical_accuracy: 0.9209\n",
            "Epoch 17/30\n",
            "1875/1875 [==============================] - 42s 22ms/step - loss: 0.0437 - sparse_categorical_accuracy: 0.9836 - val_loss: 0.3798 - val_sparse_categorical_accuracy: 0.9217\n",
            "Epoch 18/30\n",
            "1875/1875 [==============================] - 42s 23ms/step - loss: 0.0398 - sparse_categorical_accuracy: 0.9854 - val_loss: 0.4204 - val_sparse_categorical_accuracy: 0.9139\n",
            "Epoch 19/30\n",
            "1875/1875 [==============================] - 43s 23ms/step - loss: 0.0399 - sparse_categorical_accuracy: 0.9858 - val_loss: 0.4063 - val_sparse_categorical_accuracy: 0.9143\n",
            "Epoch 20/30\n",
            "1875/1875 [==============================] - 43s 23ms/step - loss: 0.0342 - sparse_categorical_accuracy: 0.9872 - val_loss: 0.4186 - val_sparse_categorical_accuracy: 0.9181\n",
            "Epoch 21/30\n",
            "1875/1875 [==============================] - 42s 23ms/step - loss: 0.0319 - sparse_categorical_accuracy: 0.9887 - val_loss: 0.4198 - val_sparse_categorical_accuracy: 0.9205\n",
            "Epoch 22/30\n",
            "1875/1875 [==============================] - 43s 23ms/step - loss: 0.0297 - sparse_categorical_accuracy: 0.9896 - val_loss: 0.4302 - val_sparse_categorical_accuracy: 0.9185\n",
            "Epoch 23/30\n",
            "1875/1875 [==============================] - 42s 22ms/step - loss: 0.0274 - sparse_categorical_accuracy: 0.9904 - val_loss: 0.4536 - val_sparse_categorical_accuracy: 0.9144\n",
            "Epoch 24/30\n",
            "1875/1875 [==============================] - 42s 22ms/step - loss: 0.0259 - sparse_categorical_accuracy: 0.9911 - val_loss: 0.4348 - val_sparse_categorical_accuracy: 0.9197\n",
            "Epoch 25/30\n",
            "1875/1875 [==============================] - 43s 23ms/step - loss: 0.0244 - sparse_categorical_accuracy: 0.9916 - val_loss: 0.4551 - val_sparse_categorical_accuracy: 0.9183\n",
            "Epoch 26/30\n",
            "1875/1875 [==============================] - 42s 22ms/step - loss: 0.0222 - sparse_categorical_accuracy: 0.9921 - val_loss: 0.4644 - val_sparse_categorical_accuracy: 0.9156\n",
            "Epoch 27/30\n",
            "1875/1875 [==============================] - 43s 23ms/step - loss: 0.0223 - sparse_categorical_accuracy: 0.9925 - val_loss: 0.5131 - val_sparse_categorical_accuracy: 0.9197\n",
            "Epoch 28/30\n",
            "1875/1875 [==============================] - 44s 24ms/step - loss: 0.0204 - sparse_categorical_accuracy: 0.9930 - val_loss: 0.4791 - val_sparse_categorical_accuracy: 0.9169\n",
            "Epoch 29/30\n",
            "1875/1875 [==============================] - 43s 23ms/step - loss: 0.0202 - sparse_categorical_accuracy: 0.9933 - val_loss: 0.5538 - val_sparse_categorical_accuracy: 0.9098\n",
            "Epoch 30/30\n",
            "1875/1875 [==============================] - 42s 23ms/step - loss: 0.0205 - sparse_categorical_accuracy: 0.9934 - val_loss: 0.4782 - val_sparse_categorical_accuracy: 0.9162\n",
            "313/313 [==============================] - 2s 6ms/step\n",
            "313/313 [==============================] - 2s 7ms/step - loss: 0.4782 - sparse_categorical_accuracy: 0.9162\n"
          ]
        }
      ]
    },
    {
      "cell_type": "code",
      "source": [
        "performance = {\n",
        "    'loss_train': loss_train,\n",
        "    'loss_val': loss_val,\n",
        "    'acc_train': acc_train,\n",
        "    'acc_val': acc_val,\n",
        "    'prf_score': prf_score,\n",
        "    'score': score\n",
        "}\n",
        "\n",
        "performance_file_path = '/content/drive/My Drive/Colab Notebooks/custom1_on_fmnist_performance.json'\n",
        "\n",
        "with open(performance_file_path, 'w') as f:\n",
        "    json.dump(performance, f)\n",
        "\n",
        "print(\"performance saved to:\", performance_file_path)"
      ],
      "metadata": {
        "id": "aua1gG8mNWIb",
        "colab": {
          "base_uri": "https://localhost:8080/"
        },
        "outputId": "7f14469c-d7a9-435f-c029-bd2b278fece3"
      },
      "execution_count": null,
      "outputs": [
        {
          "output_type": "stream",
          "name": "stdout",
          "text": [
            "performance saved to: /content/drive/My Drive/Colab Notebooks/swish_on_fmnist_performance.json\n"
          ]
        }
      ]
    }
  ]
}